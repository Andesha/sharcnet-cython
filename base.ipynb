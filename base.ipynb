{
 "cells": [
  {
   "cell_type": "markdown",
   "metadata": {},
   "source": [
    "# Cython: A First Look\n",
    "\n",
    "## Some Jupyter lab notes:\n",
    "* Jupyter lab let's us make cells and run code in a nicely formatted way\n",
    "* We also can use things like magic cells - these allow us to do special operations on code\n",
    "* Rerunning cells is super easy\n",
    "* For Cython - the notebook abstracts all of the compilation away\n",
    "* Also for Cython - allows you to profile your code\n",
    "\n",
    "## Typical sieve algorithm:\n",
    "\n",
    "1. Create a list of integers 2 -> N\n",
    "2. Start at 2, all factors of it are marked in the list as non-prime (false)\n",
    "3. Go to next true index\n",
    "4. Mark all factors of it in the list as false\n",
    "5. Go to step 3\n",
    "6. All remaining true indices are prime numbers\n",
    "\n",
    "Here's a basic sieve implementation. Nothing special.\n",
    "\n",
    "Might not even be the most efficient!"
   ]
  },
  {
   "cell_type": "code",
   "execution_count": null,
   "metadata": {},
   "outputs": [],
   "source": [
    "def sieve(sieve_length):\n",
    "    sieve_table = [True for x in range(sieve_length)]\n",
    "    sieve_table[0] = False\n",
    "    sieve_table[1] = False\n",
    "    \n",
    "    for i in range(2,int(sieve_length**0.5)+1):\n",
    "        if sieve_table[i]:\n",
    "            for marker in range(i*i, sieve_length, i):\n",
    "                sieve_table[marker] = False\n",
    "    \n",
    "    return [i for i, t in enumerate(sieve_table) if t]"
   ]
  },
  {
   "cell_type": "markdown",
   "metadata": {},
   "source": [
    "Testing base functionality:"
   ]
  },
  {
   "cell_type": "code",
   "execution_count": null,
   "metadata": {},
   "outputs": [],
   "source": [
    "primes = sieve(1_000)\n",
    "print(','.join([str(p) for p in primes]))"
   ]
  },
  {
   "cell_type": "markdown",
   "metadata": {},
   "source": [
    "Everything appears to be working, but how fast is it?\n",
    "\n",
    "Time for some basic benchmarking!"
   ]
  },
  {
   "cell_type": "code",
   "execution_count": null,
   "metadata": {},
   "outputs": [],
   "source": [
    "%timeit sieve(1_000_000)"
   ]
  },
  {
   "cell_type": "code",
   "execution_count": null,
   "metadata": {},
   "outputs": [],
   "source": [
    "%timeit sieve(10_000_000)"
   ]
  },
  {
   "cell_type": "markdown",
   "metadata": {},
   "source": [
    "Anecdotally - I happen to know this is pretty slow."
   ]
  },
  {
   "cell_type": "markdown",
   "metadata": {},
   "source": [
    "## First steps into Cython"
   ]
  },
  {
   "cell_type": "code",
   "execution_count": null,
   "metadata": {},
   "outputs": [],
   "source": [
    "%load_ext Cython"
   ]
  },
  {
   "cell_type": "code",
   "execution_count": null,
   "metadata": {},
   "outputs": [],
   "source": [
    "%%cython\n",
    "\n",
    "def sieve_magic(sieve_length):\n",
    "    sieve_table = [True for x in range(sieve_length)]\n",
    "    sieve_table[0] = False\n",
    "    sieve_table[1] = False\n",
    "    \n",
    "    for i in range(2,int(sieve_length**0.5)+1):\n",
    "        if sieve_table[i]:\n",
    "            for marker in range(i*i, sieve_length, i):\n",
    "                sieve_table[marker] = False\n",
    "    \n",
    "    return [i for i, t in enumerate(sieve_table) if t]"
   ]
  },
  {
   "cell_type": "code",
   "execution_count": null,
   "metadata": {},
   "outputs": [],
   "source": [
    "primes_magic = sieve_magic(1_000)\n",
    "print(','.join([str(p) for p in primes_magic]))"
   ]
  },
  {
   "cell_type": "code",
   "execution_count": null,
   "metadata": {},
   "outputs": [],
   "source": [
    "%timeit sieve_magic(1_000_000)"
   ]
  },
  {
   "cell_type": "markdown",
   "metadata": {},
   "source": [
    "# Exploring with Cython\n",
    "\n",
    "Cython gives us the ability to view how our code has compiled!\n",
    "\n",
    "Let's try it:"
   ]
  },
  {
   "cell_type": "code",
   "execution_count": null,
   "metadata": {},
   "outputs": [],
   "source": []
  },
  {
   "cell_type": "markdown",
   "metadata": {},
   "source": [
    "# Splitting things up\n",
    "\n",
    "It looks like working on these list comprehensions is going to be a struggle... Let's split some things up."
   ]
  },
  {
   "cell_type": "code",
   "execution_count": null,
   "metadata": {},
   "outputs": [],
   "source": []
  },
  {
   "cell_type": "markdown",
   "metadata": {},
   "source": [
    "\n",
    "# Calling STL Functions\n",
    "\n",
    "At this point we know that there's more we can do with that inner for loop - but let's have a look at the list access that's being done.\n",
    "\n",
    "Why don't we replace it with a C++ structure?"
   ]
  },
  {
   "cell_type": "code",
   "execution_count": null,
   "metadata": {},
   "outputs": [],
   "source": [
    "%reload_ext Cython"
   ]
  },
  {
   "cell_type": "code",
   "execution_count": null,
   "metadata": {},
   "outputs": [],
   "source": [
    "%%cython\n",
    "# distutils: language=c++\n",
    "\n",
    "import cython\n",
    "\n",
    "from libcpp.vector cimport vector\n",
    "\n",
    "def do_stuff():\n",
    "    cdef vector[int] totally_a_list\n",
    "    totally_a_list.push_back(100)\n",
    "    return totally_a_list[0]"
   ]
  },
  {
   "cell_type": "code",
   "execution_count": null,
   "metadata": {},
   "outputs": [],
   "source": [
    "do_stuff()"
   ]
  },
  {
   "cell_type": "markdown",
   "metadata": {},
   "source": [
    "that was easy! Let's rewrite our previous code now."
   ]
  },
  {
   "cell_type": "code",
   "execution_count": null,
   "metadata": {},
   "outputs": [],
   "source": []
  },
  {
   "cell_type": "markdown",
   "metadata": {},
   "source": [
    "# Battling the Inner Loop\n",
    "\n",
    "There's other smaller optimizations to do for sure - but what about that inner for loop?"
   ]
  },
  {
   "cell_type": "code",
   "execution_count": null,
   "metadata": {},
   "outputs": [],
   "source": []
  }
 ],
 "metadata": {
  "kernelspec": {
   "display_name": "Python 3 (ipykernel)",
   "language": "python",
   "name": "python3"
  },
  "language_info": {
   "codemirror_mode": {
    "name": "ipython",
    "version": 3
   },
   "file_extension": ".py",
   "mimetype": "text/x-python",
   "name": "python",
   "nbconvert_exporter": "python",
   "pygments_lexer": "ipython3",
   "version": "3.10.6"
  }
 },
 "nbformat": 4,
 "nbformat_minor": 4
}
