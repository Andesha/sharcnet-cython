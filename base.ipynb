{
 "cells": [
  {
   "cell_type": "markdown",
   "metadata": {},
   "source": [
    "# Cython: A First Look\n",
    "\n",
    "## Some Jupyter lab notes:\n",
    "* Jupyter lab let's us make cells and run code in a nicely formatted way\n",
    "* We also can use things like magic cells - these allow us to do special operations on code\n",
    "* Rerunning cells is super easy\n",
    "* For Cython - the notebook abstracts all of the compilation away\n",
    "* Also for Cython - allows you to profile your code\n",
    "\n",
    "## Typical sieve algorithm:\n",
    "\n",
    "1. Create a list of integers 2 -> N\n",
    "2. Start at 2, all factors of it are marked in the list as non-prime (false)\n",
    "3. Go to next true index\n",
    "4. Mark all factors of it in the list as false\n",
    "5. Go to step 3\n",
    "6. All remaining true indices are prime numbers\n",
    "\n",
    "Here's a basic sieve implementation. Nothing special.\n",
    "\n",
    "Might not even be the most efficient!"
   ]
  },
  {
   "cell_type": "code",
   "execution_count": 1,
   "metadata": {},
   "outputs": [],
   "source": [
    "def sieve(sieve_length):\n",
    "    sieve_table = [True for x in range(sieve_length)]\n",
    "    sieve_table[0] = False\n",
    "    sieve_table[1] = False\n",
    "    \n",
    "    for i in range(2,int(sieve_length**0.5)+1):\n",
    "        if sieve_table[i]:\n",
    "            for marker in range(i*i, sieve_length, i):\n",
    "                sieve_table[marker] = False\n",
    "    \n",
    "    return [i for i, t in enumerate(sieve_table) if t]"
   ]
  },
  {
   "cell_type": "markdown",
   "metadata": {},
   "source": [
    "Testing base functionality:"
   ]
  },
  {
   "cell_type": "code",
   "execution_count": 2,
   "metadata": {},
   "outputs": [
    {
     "name": "stdout",
     "output_type": "stream",
     "text": [
      "2,3,5,7,11,13,17,19,23,29,31,37,41,43,47,53,59,61,67,71,73,79,83,89,97,101,103,107,109,113,127,131,137,139,149,151,157,163,167,173,179,181,191,193,197,199,211,223,227,229,233,239,241,251,257,263,269,271,277,281,283,293,307,311,313,317,331,337,347,349,353,359,367,373,379,383,389,397,401,409,419,421,431,433,439,443,449,457,461,463,467,479,487,491,499,503,509,521,523,541,547,557,563,569,571,577,587,593,599,601,607,613,617,619,631,641,643,647,653,659,661,673,677,683,691,701,709,719,727,733,739,743,751,757,761,769,773,787,797,809,811,821,823,827,829,839,853,857,859,863,877,881,883,887,907,911,919,929,937,941,947,953,967,971,977,983,991,997\n"
     ]
    }
   ],
   "source": [
    "primes = sieve(1_000)\n",
    "print(','.join([str(p) for p in primes]))"
   ]
  },
  {
   "cell_type": "markdown",
   "metadata": {},
   "source": [
    "Everything appears to be working, but how fast is it?\n",
    "\n",
    "Time for some basic benchmarking!"
   ]
  },
  {
   "cell_type": "code",
   "execution_count": 3,
   "metadata": {},
   "outputs": [
    {
     "name": "stdout",
     "output_type": "stream",
     "text": [
      "109 ms ± 5.49 ms per loop (mean ± std. dev. of 7 runs, 10 loops each)\n"
     ]
    }
   ],
   "source": [
    "%timeit sieve(1_000_000)"
   ]
  },
  {
   "cell_type": "code",
   "execution_count": 4,
   "metadata": {},
   "outputs": [
    {
     "name": "stdout",
     "output_type": "stream",
     "text": [
      "1.39 s ± 27.4 ms per loop (mean ± std. dev. of 7 runs, 1 loop each)\n"
     ]
    }
   ],
   "source": [
    "%timeit sieve(10_000_000)"
   ]
  },
  {
   "cell_type": "markdown",
   "metadata": {},
   "source": [
    "Anecdotally - I happen to know this is pretty slow."
   ]
  },
  {
   "cell_type": "markdown",
   "metadata": {},
   "source": [
    "## First steps into Cython"
   ]
  },
  {
   "cell_type": "code",
   "execution_count": 5,
   "metadata": {},
   "outputs": [],
   "source": [
    "%load_ext Cython"
   ]
  },
  {
   "cell_type": "code",
   "execution_count": 6,
   "metadata": {},
   "outputs": [],
   "source": [
    "%%cython\n",
    "\n",
    "def sieve_magic(sieve_length):\n",
    "    sieve_table = [True for x in range(sieve_length)]\n",
    "    sieve_table[0] = False\n",
    "    sieve_table[1] = False\n",
    "    \n",
    "    for i in range(2,int(sieve_length**0.5)+1):\n",
    "        if sieve_table[i]:\n",
    "            for marker in range(i*i, sieve_length, i):\n",
    "                sieve_table[marker] = False\n",
    "    \n",
    "    return [i for i, t in enumerate(sieve_table) if t]"
   ]
  },
  {
   "cell_type": "code",
   "execution_count": 7,
   "metadata": {},
   "outputs": [
    {
     "name": "stdout",
     "output_type": "stream",
     "text": [
      "2,3,5,7,11,13,17,19,23,29,31,37,41,43,47,53,59,61,67,71,73,79,83,89,97,101,103,107,109,113,127,131,137,139,149,151,157,163,167,173,179,181,191,193,197,199,211,223,227,229,233,239,241,251,257,263,269,271,277,281,283,293,307,311,313,317,331,337,347,349,353,359,367,373,379,383,389,397,401,409,419,421,431,433,439,443,449,457,461,463,467,479,487,491,499,503,509,521,523,541,547,557,563,569,571,577,587,593,599,601,607,613,617,619,631,641,643,647,653,659,661,673,677,683,691,701,709,719,727,733,739,743,751,757,761,769,773,787,797,809,811,821,823,827,829,839,853,857,859,863,877,881,883,887,907,911,919,929,937,941,947,953,967,971,977,983,991,997\n"
     ]
    }
   ],
   "source": [
    "primes_magic = sieve_magic(1_000)\n",
    "print(','.join([str(p) for p in primes_magic]))"
   ]
  },
  {
   "cell_type": "code",
   "execution_count": 8,
   "metadata": {},
   "outputs": [
    {
     "name": "stdout",
     "output_type": "stream",
     "text": [
      "66 ms ± 4.34 ms per loop (mean ± std. dev. of 7 runs, 10 loops each)\n"
     ]
    }
   ],
   "source": [
    "%timeit sieve_magic(1_000_000)"
   ]
  },
  {
   "cell_type": "markdown",
   "metadata": {},
   "source": [
    "# Exploring with Cython\n",
    "\n",
    "Cython gives us the ability to view how our code has compiled!\n",
    "\n",
    "Let's try it:"
   ]
  },
  {
   "cell_type": "code",
   "execution_count": null,
   "metadata": {},
   "outputs": [],
   "source": []
  },
  {
   "cell_type": "markdown",
   "metadata": {},
   "source": [
    "# Splitting things up\n",
    "\n",
    "It looks like working on these list comprehensions is going to be a struggle... Let's split some things up."
   ]
  },
  {
   "cell_type": "code",
   "execution_count": null,
   "metadata": {},
   "outputs": [],
   "source": []
  },
  {
   "cell_type": "markdown",
   "metadata": {},
   "source": [
    "\n",
    "# Calling STL Functions\n",
    "\n",
    "At this point we know that there's more we can do with that inner for loop - but let's have a look at the list access that's being done.\n",
    "\n",
    "Why don't we replace it with a C++ structure?"
   ]
  },
  {
   "cell_type": "code",
   "execution_count": 9,
   "metadata": {},
   "outputs": [],
   "source": [
    "%reload_ext Cython"
   ]
  },
  {
   "cell_type": "code",
   "execution_count": 10,
   "metadata": {},
   "outputs": [],
   "source": [
    "%%cython\n",
    "# distutils: language=c++\n",
    "\n",
    "import cython\n",
    "\n",
    "from libcpp.vector cimport vector\n",
    "\n",
    "def do_stuff():\n",
    "    cdef vector[int] totally_a_list\n",
    "    totally_a_list.push_back(100)\n",
    "    return totally_a_list[0]"
   ]
  },
  {
   "cell_type": "code",
   "execution_count": 11,
   "metadata": {},
   "outputs": [
    {
     "data": {
      "text/plain": [
       "100"
      ]
     },
     "execution_count": 11,
     "metadata": {},
     "output_type": "execute_result"
    }
   ],
   "source": [
    "do_stuff()"
   ]
  },
  {
   "cell_type": "markdown",
   "metadata": {},
   "source": [
    "that was easy! Let's rewrite our previous code now."
   ]
  },
  {
   "cell_type": "code",
   "execution_count": null,
   "metadata": {},
   "outputs": [],
   "source": []
  },
  {
   "cell_type": "markdown",
   "metadata": {},
   "source": [
    "# Battling the Inner Loop\n",
    "\n",
    "There's other smaller optimizations to do for sure - but what about that inner for loop?"
   ]
  },
  {
   "cell_type": "code",
   "execution_count": null,
   "metadata": {},
   "outputs": [],
   "source": []
  }
 ],
 "metadata": {
  "kernelspec": {
   "display_name": "Python 3.7.5 64-bit ('env': venv)",
   "language": "python",
   "name": "python37564bitenvvenvcc4025f96b2b45a4bdd3095a4b3d2344"
  },
  "language_info": {
   "codemirror_mode": {
    "name": "ipython",
    "version": 3
   },
   "file_extension": ".py",
   "mimetype": "text/x-python",
   "name": "python",
   "nbconvert_exporter": "python",
   "pygments_lexer": "ipython3",
   "version": "3.7.5"
  }
 },
 "nbformat": 4,
 "nbformat_minor": 4
}
